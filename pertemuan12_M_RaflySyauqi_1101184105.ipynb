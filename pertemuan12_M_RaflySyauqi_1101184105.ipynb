{
  "nbformat": 4,
  "nbformat_minor": 0,
  "metadata": {
    "colab": {
      "name": "M.RaflySyauqi.ipynb",
      "provenance": [],
      "collapsed_sections": [],
      "authorship_tag": "ABX9TyN1hd1EpYUdz5NT4/mlBkAr",
      "include_colab_link": true
    },
    "kernelspec": {
      "name": "python3",
      "display_name": "Python 3"
    }
  },
  "cells": [
    {
      "cell_type": "markdown",
      "metadata": {
        "id": "view-in-github",
        "colab_type": "text"
      },
      "source": [
        "<a href=\"https://colab.research.google.com/github/raflysyauqi25/pemrograman_python_1101184105/blob/main/pertemuan12_M_RaflySyauqi_1101184105.ipynb\" target=\"_parent\"><img src=\"https://colab.research.google.com/assets/colab-badge.svg\" alt=\"Open In Colab\"/></a>"
      ]
    },
    {
      "cell_type": "code",
      "metadata": {
        "id": "nAFYKs96ozOW"
      },
      "source": [
        "import numpy as np"
      ],
      "execution_count": 2,
      "outputs": []
    },
    {
      "cell_type": "code",
      "metadata": {
        "colab": {
          "base_uri": "https://localhost:8080/"
        },
        "id": "TEKbH1SGy9f9",
        "outputId": "7de24279-97ad-44d0-fe0b-6e1625b46d78"
      },
      "source": [
        "# d = jarak antara pengirim dan penerima\r\n",
        "# fc = frekuensi\r\n",
        "# ht = tinggi antena pengirim\r\n",
        "# hr = tinggi antena penerima\r\n",
        "print('Muhammad Rafly Syauqi_1101184105')\r\n",
        "def perhitungan():\r\n",
        "    d    = float(input('Masukkan jarak dalam KM(d): '))\r\n",
        "    fc    = float(input('Masukkan frekuensi(fc): '))\r\n",
        "    tipe = (input('Masukkan area: '))\r\n",
        "    ht   = float(input('Masukkan tinggi antena pengirim dalam meter(ht): '))\r\n",
        "    hr   = float(input('Masukkan tinggi antena penerima dalam meter(hr): '))\r\n",
        "\r\n",
        "    if (fc >= 400000) and (fc <= 1500000):\r\n",
        "        c1 = 69.55 \r\n",
        "        c2 = 26.16\r\n",
        "    elif (fc >= 1500000) and (fc <= 2000000):\r\n",
        "        c1 = 46.3\r\n",
        "        c2 =33.9\r\n",
        "\r\n",
        "    if (tipe == 'urban') or (tipe == 'Urban'):\r\n",
        "        cm = 0\r\n",
        "    elif (tipe == 'suburb') or (tipe == 'Suburb'):\r\n",
        "        cm = (-2*((np.log10(fc/28))**2))- 5.4\r\n",
        "    elif (tipe == 'open') or (tipe == 'Open'):\r\n",
        "        cm = (-4.78*((np.log10(fc))**2)) + (18.33*np.log10(fc)) - 40.94\r\n",
        "\r\n",
        "\r\n",
        "    a = ((1.1*np.log10(fc)) - 0.7)*(hr) - ((1.56*np.log10(fc)) - 0.8)\r\n",
        "\r\n",
        "    LP = c1 + (c2*np.log10(fc)) - (13.83*np.log10(ht)) - a + ((44.9-(6.55*np.log10(ht)))*np.log10(d)) + cm\r\n",
        "\r\n",
        "    print('\\npathloss nya adalah: ', LP, 'dB')\r\n",
        "\r\n",
        "perhitungan()    "
      ],
      "execution_count": 30,
      "outputs": [
        {
          "output_type": "stream",
          "text": [
            "Muhammad Rafly Syauqi_1101184105\n",
            "Masukkan jarak dalam KM(d): 50\n",
            "Masukkan frekuensi(fc): 1400000\n",
            "Masukkan area: urban\n",
            "Masukkan tinggi antena pengirim dalam meter(ht): 100\n",
            "Masukkan tinggi antena penerima dalam meter(hr): 30\n",
            "\n",
            "pathloss nya adalah:  83.66569010950428 dB\n"
          ],
          "name": "stdout"
        }
      ]
    }
  ]
}