{
  "nbformat": 4,
  "nbformat_minor": 0,
  "metadata": {
    "colab": {
      "name": "pertemuan13.ipynb",
      "provenance": [],
      "collapsed_sections": [],
      "authorship_tag": "ABX9TyPCt/aIkbvqgpePKQo9OYpe",
      "include_colab_link": true
    },
    "kernelspec": {
      "name": "python3",
      "display_name": "Python 3"
    }
  },
  "cells": [
    {
      "cell_type": "markdown",
      "metadata": {
        "id": "view-in-github",
        "colab_type": "text"
      },
      "source": [
        "<a href=\"https://colab.research.google.com/github/raflysyauqi25/pemrograman_python_1101184105/blob/main/pertemuan13_M.Rafly%20Syauqi_1101184105.ipynb\" target=\"_parent\"><img src=\"https://colab.research.google.com/assets/colab-badge.svg\" alt=\"Open In Colab\"/></a>"
      ]
    },
    {
      "cell_type": "markdown",
      "metadata": {
        "id": "5w9vNK8UDHSB"
      },
      "source": [
        "# MUHAMMAD RAFLY SYAUQI\r\n",
        "# 1101184105\r\n",
        "# TUGAS PERTEMUAN 13\r\n",
        "\r\n",
        "---\r\n",
        "\r\n"
      ]
    },
    {
      "cell_type": "code",
      "metadata": {
        "id": "r2qvhj4CfRgx"
      },
      "source": [
        "import numpy as np\r\n",
        "import matplotlib.pyplot as plt"
      ],
      "execution_count": 86,
      "outputs": []
    },
    {
      "cell_type": "code",
      "metadata": {
        "id": "gapVUhpLeXQi"
      },
      "source": [
        " #frek = frekuensi (MHz)\r\n",
        "  #tipe = urban, suburban, open\r\n",
        "  #ht = tinggi tower (meter)\r\n",
        "  #hr = tinggi user (meter)\r\n",
        "  #d = jarak (meter)\r\n",
        "def cos(frek,tipe,ht,hr,d):\r\n",
        "    if frek in range(150,1501):\r\n",
        "        Ca=69.55\r\n",
        "        Cb=26.16\r\n",
        "    elif frek in range(1501,2001):\r\n",
        "        Ca=46.3\r\n",
        "        Cb=33.9\r\n",
        "    \r\n",
        "    if tipe=='urban' :\r\n",
        "        Cm=0\r\n",
        "    elif tipe=='suburban' :\r\n",
        "        Cm= -2*((np.log10((frek/28)**2))-5.4)\r\n",
        "    elif tipe=='open' :\r\n",
        "        Cm= -4.78*(np.log10(frek))+18.33*(np.log10(frek))-40.94\r\n",
        "    else :\r\n",
        "        Cm='tipe salah'\r\n",
        "    \r\n",
        "    ahr = (1.1*np.log10(frek)-0.7)*hr-(1.56*np.log10(frek)-1.8)\r\n",
        "    Lp = Ca+(Cb*np.log10(frek))-(13.83*np.log(ht))-ahr+((44.9-6.55*np.log10(ht))*np.log10(d))-Cm\r\n",
        "    \r\n",
        "    return Lp"
      ],
      "execution_count": 87,
      "outputs": []
    },
    {
      "cell_type": "code",
      "metadata": {
        "id": "SZwlJBUHhO_4"
      },
      "source": [
        "f=1800 #MHz\r\n",
        "loc='urban'\r\n",
        "tower=80 #m\r\n",
        "user=1.5 #m\r\n",
        "dmin=200 #m\r\n",
        "dmax=700 #m\r\n",
        "N=200 #titik\r\n",
        "d=np.random.randint(dmin,dmax,N)\r\n"
      ],
      "execution_count": 194,
      "outputs": []
    },
    {
      "cell_type": "code",
      "metadata": {
        "id": "kMrGe2VOmQO8"
      },
      "source": [
        "f=1800 #MHz\r\n",
        "loc1='suburban'\r\n",
        "tower=80 #m\r\n",
        "user=1.5 #m\r\n",
        "dmin=200 #m\r\n",
        "dmax=700 #m\r\n",
        "N=200 #titik\r\n",
        "z=np.random.randint(dmin,dmax,N)\r\n"
      ],
      "execution_count": 195,
      "outputs": []
    },
    {
      "cell_type": "code",
      "metadata": {
        "id": "hu6eBp1zoNdK"
      },
      "source": [
        "f=1800 #MHz\r\n",
        "loc2='open'\r\n",
        "tower=80 #m\r\n",
        "user=1.5 #m\r\n",
        "dmin=200 #m\r\n",
        "dmax=700 #m\r\n",
        "N=200 #titik\r\n",
        "r=np.random.randint(dmin,dmax,N)"
      ],
      "execution_count": 196,
      "outputs": []
    },
    {
      "cell_type": "code",
      "metadata": {
        "id": "4NVU_vkEiv1I"
      },
      "source": [
        "LpUrban=cos(f,loc,tower,user,d)"
      ],
      "execution_count": 197,
      "outputs": []
    },
    {
      "cell_type": "code",
      "metadata": {
        "id": "wW83yS4qnCnR"
      },
      "source": [
        "LpSubUrban=cos(f,loc1,tower,user,z)"
      ],
      "execution_count": 198,
      "outputs": []
    },
    {
      "cell_type": "code",
      "metadata": {
        "id": "2RDO4C6knxct"
      },
      "source": [
        "LpOpen=cos(f,loc2,tower,user,r)"
      ],
      "execution_count": 199,
      "outputs": []
    },
    {
      "cell_type": "code",
      "metadata": {
        "id": "whRcY1fajDYw"
      },
      "source": [
        "d_sort=d[np.argsort(d)]\r\n",
        "Urban_sort=LpUrban[np.argsort(d)]"
      ],
      "execution_count": 200,
      "outputs": []
    },
    {
      "cell_type": "code",
      "metadata": {
        "id": "mklCB_lenNSi"
      },
      "source": [
        "z_sort=z[np.argsort(z)]\r\n",
        "Suburban_sort=LpSubUrban[np.argsort(z)]\r\n"
      ],
      "execution_count": 201,
      "outputs": []
    },
    {
      "cell_type": "code",
      "metadata": {
        "id": "_lIm2t_-pKM6"
      },
      "source": [
        "r_sort=r[np.argsort(r)]\r\n",
        "Open_sort=LpOpen[np.argsort(r)]"
      ],
      "execution_count": 202,
      "outputs": []
    },
    {
      "cell_type": "code",
      "metadata": {
        "colab": {
          "base_uri": "https://localhost:8080/",
          "height": 279
        },
        "id": "NjvAfwb3jHqh",
        "outputId": "cf9007cc-e498-4366-8d74-ce0e726172fc"
      },
      "source": [
        "plt.figure()\r\n",
        "plt.plot(d_sort,Urban_sort,'r',label='Urban' )\r\n",
        "plt.plot(z_sort,Suburban_sort,'g',label='Suburban')\r\n",
        "plt.plot(r_sort,Open_sort,'k', label='Open')\r\n",
        "plt.legend()\r\n",
        "plt.title('Frekuensi 1800 Mhz')\r\n",
        "plt.xlabel('Jarak (m)')\r\n",
        "plt.ylabel('Path Loss (dB)')\r\n",
        "plt.show()"
      ],
      "execution_count": 205,
      "outputs": [
        {
          "output_type": "display_data",
          "data": {
            "image/png": "[encoded data removed]",
            "text/plain": [
              "<Figure size 432x288 with 1 Axes>"
            ]
          },
          "metadata": {
            "tags": [],
            "needs_background": "light"
          }
        }
      ]
    },
    {
      "cell_type": "code",
      "metadata": {
        "id": "mRp_O0Zw7b71"
      },
      "source": [
        "f1=700 #Mhz\r\n",
        "f2=900 #Mhz\r\n",
        "f3=1800 #MHz\r\n",
        "loc3='urban'\r\n",
        "tower=80 #m\r\n",
        "user=1.5 #m\r\n",
        "dmin=200 #m\r\n",
        "dmax=700 #m\r\n",
        "N=200 #titik\r\n",
        "c=np.random.randint(dmin,dmax,N)\r\n",
        "b=np.random.randint(dmin,dmax,N)\r\n",
        "a=np.random.randint(dmin,dmax,N)\r\n"
      ],
      "execution_count": 216,
      "outputs": []
    },
    {
      "cell_type": "code",
      "metadata": {
        "id": "z7iGafuy9ZA7"
      },
      "source": [
        "LpUrban1=cos(f1,loc3,tower,user,c)\r\n",
        "LpUrban2=cos(f2,loc3,tower,user,b)\r\n",
        "LpUrban3=cos(f3,loc3,tower,user,a)"
      ],
      "execution_count": 217,
      "outputs": []
    },
    {
      "cell_type": "code",
      "metadata": {
        "id": "K1-H5MwK-Kyn"
      },
      "source": [
        "c_sort=c[np.argsort(c)]\r\n",
        "Urban_sort1=LpUrban1[np.argsort(c)]\r\n",
        "\r\n",
        "b_sort=b[np.argsort(b)]\r\n",
        "Urban_sort2=LpUrban2[np.argsort(b)]\r\n",
        "\r\n",
        "a_sort=a[np.argsort(a)]\r\n",
        "Urban_sort3=LpUrban3[np.argsort(a)]\r\n"
      ],
      "execution_count": 219,
      "outputs": []
    },
    {
      "cell_type": "code",
      "metadata": {
        "colab": {
          "base_uri": "https://localhost:8080/",
          "height": 295
        },
        "id": "BzT_JNID93cv",
        "outputId": "68fd0049-4a2d-41ed-de47-074a18260106"
      },
      "source": [
        "plt.figure()\r\n",
        "plt.plot(c_sort,Urban_sort1,'r',label='700 Mhz' )\r\n",
        "plt.plot(b_sort,Urban_sort2,'g',label='900 Mhz')\r\n",
        "plt.plot(a_sort,Urban_sort3,'k', label='1800 Mhz')\r\n",
        "plt.legend()\r\n",
        "plt.title('Model Urban')\r\n",
        "plt.xlabel('Jarak (m)')\r\n",
        "plt.ylabel('Path Loss (dB)')\r\n",
        "plt.show()"
      ],
      "execution_count": 223,
      "outputs": [
        {
          "output_type": "display_data",
          "data": {
            "image/png": "[encoded data removed]",
            "text/plain": [
              "<Figure size 432x288 with 1 Axes>"
            ]
          },
          "metadata": {
            "tags": [],
            "needs_background": "light"
          }
        }
      ]
    }
  ]
}